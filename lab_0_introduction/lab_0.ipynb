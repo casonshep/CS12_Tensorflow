{
 "cells": [
  {
   "cell_type": "markdown",
   "metadata": {},
   "source": [
    "# Lab 0: Introduction (3)\n",
    "\n",
    "This lab is mainly for setup and assesses if you are prepared for CS 12: TensorFlow."
   ]
  },
  {
   "cell_type": "markdown",
   "metadata": {},
   "source": [
    "## Section 0: Setup & Git Basics\n",
    "Read (and do) the setup as instructed on the class webpage:\n",
    "rohunagrawal.github.io/#/cs12/setup\n",
    "\n",
    "Important things:\n",
    "- Make sure your lab repository is private\n",
    "- Make sure the repository is shared with `rohunagrawal`.\n",
    "  \n",
    "Now make and push a text file in the `lab_0_introduction` folder with a fun message for us.\n",
    "- Make sure that this file is added in its own commit.\n",
    "- Either use command line instructions (`git add`, `git commit`, `git push`) or use a visual git interface. (GitHub desktop, VSCode source control, etc)\n",
    "  - Do not upload the file using the interface on github.com."
   ]
  },
  {
   "cell_type": "markdown",
   "metadata": {},
   "source": [
    "## Section 1: Formatting & Style\n",
    "\n",
    "Oh no! Ben Bitfiddle hasn't written any Python code since CS 1! Help him rewrite the functions below into something reasonable."
   ]
  },
  {
   "cell_type": "code",
   "execution_count": 1,
   "metadata": {},
   "outputs": [],
   "source": [
    "# Import essential libraries\n",
    "import random\n",
    "import string\n",
    "import inspect\n",
    "import re"
   ]
  },
  {
   "cell_type": "code",
   "execution_count": 4,
   "metadata": {},
   "outputs": [],
   "source": [
    "# Ben Bitfiddle wanted to make a function so he could add numbers together.\n",
    "# TODO: Refactor this code. \n",
    "def add(x, y):\n",
    "    return x + y\n",
    "\n",
    "# Ben has made an interesting choice for his sorting function...\n",
    "# TODO: Clean up the spacing/formatting and refactor.\n",
    "def bogosort(array):\n",
    "    while array != sorted(array): \n",
    "        random.shuffle(array)\n",
    "    return array\n",
    "   \n",
    "# Mr Bitfiddle wanted to make an array ranging from 1 to 13.\n",
    "# TODO: Isn't there an easy way to do this in Python...?\n",
    "def make_data():\n",
    "    return list(range(1, 14))\n",
    "  \n",
    "# Ben was tired of seeing Camelcasing in Python so he wrote a helpful function.\n",
    "# But wait, don't his variables look weird...?\n",
    "# TODO: Change Camel case names into Snake case.\n",
    "# Brownie points if you can rewrite this in one line. Hint: Use regexes.\n",
    "def convertCamelToSnake(input):\n",
    "    return  re.sub(r\"[A-Z]\", \"_\" + r\"\\g<0>\", input)"
   ]
  },
  {
   "cell_type": "code",
   "execution_count": 5,
   "metadata": {},
   "outputs": [
    {
     "name": "stdout",
     "output_type": "stream",
     "text": [
      "1 + 5 = 6\n",
      "Oh boy it's sorted:\n",
      "\t[1, 2, 3, 4, 5, 6, 7, 8, 9]\n",
      "Data!:\n",
      "\t[1, 2, 3, 4, 5, 6, 7, 8, 9, 10, 11, 12, 13]\n",
      "Hmm wait...\n",
      "\tdef convert_Camel_To_Snake(input):\n",
      "\t    return  re.sub(r\"[_A-_Z]\", \"_\" + r\"\\g<0>\", input)\n",
      "\t\n"
     ]
    }
   ],
   "source": [
    "# NOTE: Just to see the output; no work to do here.\n",
    "\n",
    "print(\"1 + 5 =\", add(1, 5))\n",
    "\n",
    "print(\"Oh boy it's sorted:\\n\\t\", bogosort([2, 4, 6, 8, 9, 7, 5, 3, 1]), sep=\"\")\n",
    "\n",
    "print(\"Data!:\\n\\t\", make_data(), sep=\"\")\n",
    "\n",
    "print(\"Hmm wait...\\n\", \"\\t\" + convertCamelToSnake(inspect.getsource(convertCamelToSnake)).replace(\"\\n\", \"\\n\\t\"), sep=\"\")"
   ]
  },
  {
   "cell_type": "markdown",
   "metadata": {},
   "source": [
    "## Section 2: Documentation Scavenger Hunt\n",
    "\n",
    "Reading documentation will be very helpful if not essential to doing well in the class. \n",
    "\n",
    "### 2.1: TensorFlow Docs\n",
    "For TensorFlow, documentation can be found at https://www.tensorflow.org/api_docs/python. Do the following in comments below.\n",
    "\n",
    "- Find the following functions in the API and describe their use (one short sentence is good).\n",
    "  - `tf.math.erf`\n",
    "  - `tf.print`\n",
    "  - `tf.nn.weighted_cross_entropy_with_logits`\n",
    "  \n",
    "- Find functions that do the following (you don't need to use them just give the name):\n",
    "  - Flip an image horizontally (left to right).\n",
    "  - Fast Fourier transform.\n",
    "  - Casts a tensor to a new type.\n",
    "\n",
    "- List all of the types used in TensorFlow (`tf.dtypes`)."
   ]
  },
  {
   "cell_type": "code",
   "execution_count": null,
   "metadata": {},
   "outputs": [],
   "source": [
    "# Describe the functions:\n",
    "\n",
    "# tf.math.erf\n",
    "# This function computes the Gaussian error over x element-wise.\n",
    "\n",
    "# tf.print\n",
    "# This function prints the specified input to sys.stderr.\n",
    "\n",
    "# tf.nn.weighted_cross_entropy_with_logits\n",
    "# This is a cross entropy loss function that allows for the positive error to be weighted.\n",
    "\n",
    "# Find the functions:\n",
    "\n",
    "# Example: Returns x + y element-wise. => `tf.math.add`\n",
    "\n",
    "# Flip an image horizontally (left to right). -> tf.image.flip_left_right\n",
    "# Fast Fourier transform. -> tf.keras.ops.fft \n",
    "# Casts a tensor to a new type. -> tf.cast\n",
    "\n",
    "# List the types:\n",
    "# tf.qint16\n",
    "# tf.qint16_ref\n",
    "# tf.qint32\n",
    "# tf.qint32_ref\n",
    "# tf.qint8\n",
    "# tf.qint8_ref\n",
    "# tf.quint16\n",
    "# tf.quint16_ref\n",
    "# tf.quint8\n",
    "# tf.quint8_ref\n",
    "# tf.bfloat16\n",
    "# tf.bool\n",
    "# tf.complex128\n",
    "# tf.complex64\n",
    "# tf.double\n",
    "# tf.float16\n",
    "# tf.float32\n",
    "# tf.float64\n",
    "# tf.half\n",
    "# tf.int16\n",
    "# tf.int32\n",
    "# tf.int64\n",
    "# tf.int8\n",
    "# tf.qint16\n",
    "# tf.qint32\n",
    "# tf.qint8\n",
    "# tf.quint16\n",
    "# tf.quint8\n",
    "# tf.resource\n",
    "# tf.string\n",
    "# tf.uint16\n",
    "# tf.uint32\n",
    "# tf.uint64\n",
    "# tf.uint8\n",
    "# tf.variant"
   ]
  },
  {
   "cell_type": "markdown",
   "metadata": {},
   "source": [
    "### 2.2: Python Docs\n",
    "The actual docs are here: https://docs.python.org/3/, but you may find this more useful: https://python-reference.readthedocs.io/.\n",
    "\n",
    "- Explain what a list comprehension is, and make one to list the first 10 squares.\n",
    "- Make a class called `ComplexNum` which can store the value of a complex number. \n",
    "  - Implement `__add__`, `__mul__`, and `__str__`."
   ]
  },
  {
   "cell_type": "code",
   "execution_count": 6,
   "metadata": {},
   "outputs": [
    {
     "name": "stdout",
     "output_type": "stream",
     "text": [
      "[1, 4, 9, 16, 25, 36, 49, 64, 81, 100]\n"
     ]
    }
   ],
   "source": [
    "# TODO: Make a comprehension for the first 10 squares\n",
    "sq_lst = [i**2 for i in range(1, 11)]\n",
    "print(sq_lst)\n",
    "\n",
    "# List comprehension is where we can construct a list of elements using loops and\n",
    "# other types of iterables in-line."
   ]
  },
  {
   "cell_type": "code",
   "execution_count": 14,
   "metadata": {},
   "outputs": [
    {
     "name": "stdout",
     "output_type": "stream",
     "text": [
      "(-17+7j)\n",
      "-17 + 7i\n"
     ]
    }
   ],
   "source": [
    "# TODO: Make the `ComplexNum` class\n",
    "\n",
    "# Native Python complex numbers \n",
    "a = 2 + 3j\n",
    "b = -2 + 5j\n",
    "print(a * b + a)\n",
    "\n",
    "\n",
    "class ComplexNum(object):\n",
    "    def __init__(self, real, i):\n",
    "        self.r = real\n",
    "        self.i = i\n",
    "\n",
    "\n",
    "    def __add__(self, other):\n",
    "        return ComplexNum(self.r + other.r, self.i + other.i)\n",
    "\n",
    "    def __mul__(self, other):\n",
    "        real = self.r * other.r - self.i * other.i\n",
    "        img = self.r * other.i + self.i * other.r\n",
    "        return ComplexNum(real, img)\n",
    "\n",
    "    def __str__(self):\n",
    "        ret = str(self.r)\n",
    "        if self.i < 0:\n",
    "            ret += f\" - {self.i}i\"\n",
    "        elif self.i > 0:\n",
    "            ret += f\" + {self.i}i\"\n",
    "        return ret\n",
    "\n",
    "# Your complex numbers\n",
    "a = ComplexNum(2, 3)\n",
    "b = ComplexNum(-2, 5)\n",
    "\n",
    "print(a * b + a)"
   ]
  },
  {
   "cell_type": "markdown",
   "metadata": {},
   "source": [
    "## Section 3: Tips To Remember \n",
    "- Read the [documentation](https://www.tensorflow.org/api_docs/python/tf) for functions you don't understand.\n",
    "- Read the notes for every lab before starting.\n",
    "  - The lecture notes have useful code to use, just make sure to actually change it so it works for the situation.\n",
    "  - It will be almost impossible to do this class without the notes.\n",
    "- Read all instructions on the assignments carefully. You can easily lose a lot of points if you forget to do something simple **like assigning TensorFlow names to your variables**.\n",
    "- Experiment with hyperparameters if your model does not train well."
   ]
  }
 ],
 "metadata": {
  "kernelspec": {
   "display_name": "Python 3",
   "language": "python",
   "name": "python3"
  },
  "language_info": {
   "codemirror_mode": {
    "name": "ipython",
    "version": 3
   },
   "file_extension": ".py",
   "mimetype": "text/x-python",
   "name": "python",
   "nbconvert_exporter": "python",
   "pygments_lexer": "ipython3",
   "version": "3.9.0"
  }
 },
 "nbformat": 4,
 "nbformat_minor": 2
}
