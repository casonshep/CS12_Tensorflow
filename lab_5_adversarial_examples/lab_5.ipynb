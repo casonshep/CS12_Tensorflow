{
 "cells": [
  {
   "cell_type": "markdown",
   "metadata": {},
   "source": [
    "# Lab 5: A Black-Box Adversarial Attack\n",
    "In this lab, we'll carry out an adversarial attack in the **black box** case: we don't have the weights of the network we're trying to trick (the **target model**), and instead we can only give it inputs and see its outputs.\n",
    "\n",
    "Black-box adversarial attacks are based on the fact that adversarial examples are _transferable_: if it tricks one network, it will likely trick another (but less well).\n",
    "So, since we need network weights to make adversarial examples, we train a second model, the **surrogate model**, to act like the target model.\n",
    "To do this, we'll use the target model as an \"oracle\" to make a dataset where the features are from real examples, and the labels are the outputs of the target model on those examples.\n",
    "If the surrogate model learns to output the same probabilities as the target model on a given input, its internal representations are likely similar.\n",
    "Then, when we make an adversarial example for the surrogate model, it should also trick the target model.\n",
    "\n",
    "The end result of this lab should be an image which looks close to some image in the dataset, but tricks the target network into assigning high confidence to some other class. "
   ]
  },
  {
   "cell_type": "markdown",
   "metadata": {},
   "source": [
    "## Section 0: Load the data\n",
    "This uses the same dataset as last time, so just copy the data over here in the same format.\n",
    "The same data loading and preprocessing as before is in place."
   ]
  },
  {
   "cell_type": "code",
   "execution_count": 1,
   "metadata": {},
   "outputs": [],
   "source": [
    "%matplotlib inline\n",
    "import numpy as np\n",
    "import tensorflow as tf\n",
    "import matplotlib.pyplot as plt\n",
    "import os"
   ]
  },
  {
   "cell_type": "code",
   "execution_count": 2,
   "metadata": {},
   "outputs": [],
   "source": [
    "# Seed numpy rng for reproducibility\n",
    "np.random.seed(1337)\n",
    "\n",
    "# Load data\n",
    "x_all = np.load('data/X.npy')\n",
    "y_all = np.load('data/Y.npy')\n",
    "\n",
    "x_all = x_all.astype(np.float64)\n",
    "y_all = y_all.astype(np.float64)\n",
    "\n",
    "# Maps dataset-provided label to true label\n",
    "label_map = {0:9, 1:0, 2:7, 3:6, 4:1, 5:8, 6:4, 7:3, 8:2, 9:5}\n",
    "\n",
    "# Correct dataset labels\n",
    "for row in range(y_all.shape[0]):\n",
    "    dataset_label = np.where(y_all[row])[0][0]\n",
    "    y_all[row, :] = np.zeros(10)\n",
    "    y_all[row, label_map[dataset_label]] = 1\n",
    "    \n",
    "# Shuffle features and targets together\n",
    "# Credit for this technique to:\n",
    "# https://stackoverflow.com/questions/4601373/\n",
    "# better-way-to-shuffle-two-numpy-arrays-in-unison\n",
    "rng_state = np.random.get_state()\n",
    "np.random.shuffle(x_all)\n",
    "np.random.set_state(rng_state)\n",
    "np.random.shuffle(y_all)\n",
    "\n",
    "# Add a dummy channel axis to input images\n",
    "x_all = np.expand_dims(x_all, axis=-1)\n",
    "\n",
    "# Center and rescale data to the range [-1, 1]\n",
    "x_all = x_all - 0.5\n",
    "x_all = x_all * 2\n",
    "\n",
    "# Create a validation set from 30% of the available data\n",
    "n_points = x_all.shape[0]\n",
    "n_test = int(n_points * 0.3)\n",
    "n_train = n_points - n_test\n",
    "x_train, x_test = np.split(x_all, [n_train], axis=0)\n",
    "y_train, y_test = np.split(y_all, [n_train], axis=0)"
   ]
  },
  {
   "cell_type": "markdown",
   "metadata": {},
   "source": [
    "## Section 1: Train the black-box model\n",
    "Below, I've written a CNN in Keras to classify images from the dataset, and the code to train it.\n",
    "This will act as the \"black box model.\"\n",
    "\n",
    "Train the model using the code below.\n",
    "It should hit about 95-96% validation accuracy on the dataset."
   ]
  },
  {
   "cell_type": "code",
   "execution_count": 3,
   "metadata": {},
   "outputs": [
    {
     "data": {
      "text/html": [
       "<pre style=\"white-space:pre;overflow-x:auto;line-height:normal;font-family:Menlo,'DejaVu Sans Mono',consolas,'Courier New',monospace\"><span style=\"font-weight: bold\">Model: \"functional\"</span>\n",
       "</pre>\n"
      ],
      "text/plain": [
       "\u001b[1mModel: \"functional\"\u001b[0m\n"
      ]
     },
     "metadata": {},
     "output_type": "display_data"
    },
    {
     "data": {
      "text/html": [
       "<pre style=\"white-space:pre;overflow-x:auto;line-height:normal;font-family:Menlo,'DejaVu Sans Mono',consolas,'Courier New',monospace\">┏━━━━━━━━━━━━━━━━━━━━━━━━━━━━━━━━━┳━━━━━━━━━━━━━━━━━━━━━━━━┳━━━━━━━━━━━━━━━┓\n",
       "┃<span style=\"font-weight: bold\"> Layer (type)                    </span>┃<span style=\"font-weight: bold\"> Output Shape           </span>┃<span style=\"font-weight: bold\">       Param # </span>┃\n",
       "┡━━━━━━━━━━━━━━━━━━━━━━━━━━━━━━━━━╇━━━━━━━━━━━━━━━━━━━━━━━━╇━━━━━━━━━━━━━━━┩\n",
       "│ input_layer (<span style=\"color: #0087ff; text-decoration-color: #0087ff\">InputLayer</span>)        │ (<span style=\"color: #00d7ff; text-decoration-color: #00d7ff\">None</span>, <span style=\"color: #00af00; text-decoration-color: #00af00\">64</span>, <span style=\"color: #00af00; text-decoration-color: #00af00\">64</span>, <span style=\"color: #00af00; text-decoration-color: #00af00\">1</span>)      │             <span style=\"color: #00af00; text-decoration-color: #00af00\">0</span> │\n",
       "├─────────────────────────────────┼────────────────────────┼───────────────┤\n",
       "│ conv2d (<span style=\"color: #0087ff; text-decoration-color: #0087ff\">Conv2D</span>)                 │ (<span style=\"color: #00d7ff; text-decoration-color: #00d7ff\">None</span>, <span style=\"color: #00af00; text-decoration-color: #00af00\">30</span>, <span style=\"color: #00af00; text-decoration-color: #00af00\">30</span>, <span style=\"color: #00af00; text-decoration-color: #00af00\">16</span>)     │           <span style=\"color: #00af00; text-decoration-color: #00af00\">416</span> │\n",
       "├─────────────────────────────────┼────────────────────────┼───────────────┤\n",
       "│ conv2d_1 (<span style=\"color: #0087ff; text-decoration-color: #0087ff\">Conv2D</span>)               │ (<span style=\"color: #00d7ff; text-decoration-color: #00d7ff\">None</span>, <span style=\"color: #00af00; text-decoration-color: #00af00\">28</span>, <span style=\"color: #00af00; text-decoration-color: #00af00\">28</span>, <span style=\"color: #00af00; text-decoration-color: #00af00\">16</span>)     │         <span style=\"color: #00af00; text-decoration-color: #00af00\">2,320</span> │\n",
       "├─────────────────────────────────┼────────────────────────┼───────────────┤\n",
       "│ max_pooling2d (<span style=\"color: #0087ff; text-decoration-color: #0087ff\">MaxPooling2D</span>)    │ (<span style=\"color: #00d7ff; text-decoration-color: #00d7ff\">None</span>, <span style=\"color: #00af00; text-decoration-color: #00af00\">14</span>, <span style=\"color: #00af00; text-decoration-color: #00af00\">14</span>, <span style=\"color: #00af00; text-decoration-color: #00af00\">16</span>)     │             <span style=\"color: #00af00; text-decoration-color: #00af00\">0</span> │\n",
       "├─────────────────────────────────┼────────────────────────┼───────────────┤\n",
       "│ conv2d_2 (<span style=\"color: #0087ff; text-decoration-color: #0087ff\">Conv2D</span>)               │ (<span style=\"color: #00d7ff; text-decoration-color: #00d7ff\">None</span>, <span style=\"color: #00af00; text-decoration-color: #00af00\">12</span>, <span style=\"color: #00af00; text-decoration-color: #00af00\">12</span>, <span style=\"color: #00af00; text-decoration-color: #00af00\">32</span>)     │         <span style=\"color: #00af00; text-decoration-color: #00af00\">4,640</span> │\n",
       "├─────────────────────────────────┼────────────────────────┼───────────────┤\n",
       "│ conv2d_3 (<span style=\"color: #0087ff; text-decoration-color: #0087ff\">Conv2D</span>)               │ (<span style=\"color: #00d7ff; text-decoration-color: #00d7ff\">None</span>, <span style=\"color: #00af00; text-decoration-color: #00af00\">10</span>, <span style=\"color: #00af00; text-decoration-color: #00af00\">10</span>, <span style=\"color: #00af00; text-decoration-color: #00af00\">32</span>)     │         <span style=\"color: #00af00; text-decoration-color: #00af00\">9,248</span> │\n",
       "├─────────────────────────────────┼────────────────────────┼───────────────┤\n",
       "│ max_pooling2d_1 (<span style=\"color: #0087ff; text-decoration-color: #0087ff\">MaxPooling2D</span>)  │ (<span style=\"color: #00d7ff; text-decoration-color: #00d7ff\">None</span>, <span style=\"color: #00af00; text-decoration-color: #00af00\">5</span>, <span style=\"color: #00af00; text-decoration-color: #00af00\">5</span>, <span style=\"color: #00af00; text-decoration-color: #00af00\">32</span>)       │             <span style=\"color: #00af00; text-decoration-color: #00af00\">0</span> │\n",
       "├─────────────────────────────────┼────────────────────────┼───────────────┤\n",
       "│ conv2d_4 (<span style=\"color: #0087ff; text-decoration-color: #0087ff\">Conv2D</span>)               │ (<span style=\"color: #00d7ff; text-decoration-color: #00d7ff\">None</span>, <span style=\"color: #00af00; text-decoration-color: #00af00\">5</span>, <span style=\"color: #00af00; text-decoration-color: #00af00\">5</span>, <span style=\"color: #00af00; text-decoration-color: #00af00\">64</span>)       │        <span style=\"color: #00af00; text-decoration-color: #00af00\">18,496</span> │\n",
       "├─────────────────────────────────┼────────────────────────┼───────────────┤\n",
       "│ conv2d_5 (<span style=\"color: #0087ff; text-decoration-color: #0087ff\">Conv2D</span>)               │ (<span style=\"color: #00d7ff; text-decoration-color: #00d7ff\">None</span>, <span style=\"color: #00af00; text-decoration-color: #00af00\">5</span>, <span style=\"color: #00af00; text-decoration-color: #00af00\">5</span>, <span style=\"color: #00af00; text-decoration-color: #00af00\">64</span>)       │        <span style=\"color: #00af00; text-decoration-color: #00af00\">36,928</span> │\n",
       "├─────────────────────────────────┼────────────────────────┼───────────────┤\n",
       "│ max_pooling2d_2 (<span style=\"color: #0087ff; text-decoration-color: #0087ff\">MaxPooling2D</span>)  │ (<span style=\"color: #00d7ff; text-decoration-color: #00d7ff\">None</span>, <span style=\"color: #00af00; text-decoration-color: #00af00\">2</span>, <span style=\"color: #00af00; text-decoration-color: #00af00\">2</span>, <span style=\"color: #00af00; text-decoration-color: #00af00\">64</span>)       │             <span style=\"color: #00af00; text-decoration-color: #00af00\">0</span> │\n",
       "├─────────────────────────────────┼────────────────────────┼───────────────┤\n",
       "│ flatten (<span style=\"color: #0087ff; text-decoration-color: #0087ff\">Flatten</span>)               │ (<span style=\"color: #00d7ff; text-decoration-color: #00d7ff\">None</span>, <span style=\"color: #00af00; text-decoration-color: #00af00\">256</span>)            │             <span style=\"color: #00af00; text-decoration-color: #00af00\">0</span> │\n",
       "├─────────────────────────────────┼────────────────────────┼───────────────┤\n",
       "│ dense (<span style=\"color: #0087ff; text-decoration-color: #0087ff\">Dense</span>)                   │ (<span style=\"color: #00d7ff; text-decoration-color: #00d7ff\">None</span>, <span style=\"color: #00af00; text-decoration-color: #00af00\">128</span>)            │        <span style=\"color: #00af00; text-decoration-color: #00af00\">32,896</span> │\n",
       "├─────────────────────────────────┼────────────────────────┼───────────────┤\n",
       "│ dense_1 (<span style=\"color: #0087ff; text-decoration-color: #0087ff\">Dense</span>)                 │ (<span style=\"color: #00d7ff; text-decoration-color: #00d7ff\">None</span>, <span style=\"color: #00af00; text-decoration-color: #00af00\">10</span>)             │         <span style=\"color: #00af00; text-decoration-color: #00af00\">1,290</span> │\n",
       "└─────────────────────────────────┴────────────────────────┴───────────────┘\n",
       "</pre>\n"
      ],
      "text/plain": [
       "┏━━━━━━━━━━━━━━━━━━━━━━━━━━━━━━━━━┳━━━━━━━━━━━━━━━━━━━━━━━━┳━━━━━━━━━━━━━━━┓\n",
       "┃\u001b[1m \u001b[0m\u001b[1mLayer (type)                   \u001b[0m\u001b[1m \u001b[0m┃\u001b[1m \u001b[0m\u001b[1mOutput Shape          \u001b[0m\u001b[1m \u001b[0m┃\u001b[1m \u001b[0m\u001b[1m      Param #\u001b[0m\u001b[1m \u001b[0m┃\n",
       "┡━━━━━━━━━━━━━━━━━━━━━━━━━━━━━━━━━╇━━━━━━━━━━━━━━━━━━━━━━━━╇━━━━━━━━━━━━━━━┩\n",
       "│ input_layer (\u001b[38;5;33mInputLayer\u001b[0m)        │ (\u001b[38;5;45mNone\u001b[0m, \u001b[38;5;34m64\u001b[0m, \u001b[38;5;34m64\u001b[0m, \u001b[38;5;34m1\u001b[0m)      │             \u001b[38;5;34m0\u001b[0m │\n",
       "├─────────────────────────────────┼────────────────────────┼───────────────┤\n",
       "│ conv2d (\u001b[38;5;33mConv2D\u001b[0m)                 │ (\u001b[38;5;45mNone\u001b[0m, \u001b[38;5;34m30\u001b[0m, \u001b[38;5;34m30\u001b[0m, \u001b[38;5;34m16\u001b[0m)     │           \u001b[38;5;34m416\u001b[0m │\n",
       "├─────────────────────────────────┼────────────────────────┼───────────────┤\n",
       "│ conv2d_1 (\u001b[38;5;33mConv2D\u001b[0m)               │ (\u001b[38;5;45mNone\u001b[0m, \u001b[38;5;34m28\u001b[0m, \u001b[38;5;34m28\u001b[0m, \u001b[38;5;34m16\u001b[0m)     │         \u001b[38;5;34m2,320\u001b[0m │\n",
       "├─────────────────────────────────┼────────────────────────┼───────────────┤\n",
       "│ max_pooling2d (\u001b[38;5;33mMaxPooling2D\u001b[0m)    │ (\u001b[38;5;45mNone\u001b[0m, \u001b[38;5;34m14\u001b[0m, \u001b[38;5;34m14\u001b[0m, \u001b[38;5;34m16\u001b[0m)     │             \u001b[38;5;34m0\u001b[0m │\n",
       "├─────────────────────────────────┼────────────────────────┼───────────────┤\n",
       "│ conv2d_2 (\u001b[38;5;33mConv2D\u001b[0m)               │ (\u001b[38;5;45mNone\u001b[0m, \u001b[38;5;34m12\u001b[0m, \u001b[38;5;34m12\u001b[0m, \u001b[38;5;34m32\u001b[0m)     │         \u001b[38;5;34m4,640\u001b[0m │\n",
       "├─────────────────────────────────┼────────────────────────┼───────────────┤\n",
       "│ conv2d_3 (\u001b[38;5;33mConv2D\u001b[0m)               │ (\u001b[38;5;45mNone\u001b[0m, \u001b[38;5;34m10\u001b[0m, \u001b[38;5;34m10\u001b[0m, \u001b[38;5;34m32\u001b[0m)     │         \u001b[38;5;34m9,248\u001b[0m │\n",
       "├─────────────────────────────────┼────────────────────────┼───────────────┤\n",
       "│ max_pooling2d_1 (\u001b[38;5;33mMaxPooling2D\u001b[0m)  │ (\u001b[38;5;45mNone\u001b[0m, \u001b[38;5;34m5\u001b[0m, \u001b[38;5;34m5\u001b[0m, \u001b[38;5;34m32\u001b[0m)       │             \u001b[38;5;34m0\u001b[0m │\n",
       "├─────────────────────────────────┼────────────────────────┼───────────────┤\n",
       "│ conv2d_4 (\u001b[38;5;33mConv2D\u001b[0m)               │ (\u001b[38;5;45mNone\u001b[0m, \u001b[38;5;34m5\u001b[0m, \u001b[38;5;34m5\u001b[0m, \u001b[38;5;34m64\u001b[0m)       │        \u001b[38;5;34m18,496\u001b[0m │\n",
       "├─────────────────────────────────┼────────────────────────┼───────────────┤\n",
       "│ conv2d_5 (\u001b[38;5;33mConv2D\u001b[0m)               │ (\u001b[38;5;45mNone\u001b[0m, \u001b[38;5;34m5\u001b[0m, \u001b[38;5;34m5\u001b[0m, \u001b[38;5;34m64\u001b[0m)       │        \u001b[38;5;34m36,928\u001b[0m │\n",
       "├─────────────────────────────────┼────────────────────────┼───────────────┤\n",
       "│ max_pooling2d_2 (\u001b[38;5;33mMaxPooling2D\u001b[0m)  │ (\u001b[38;5;45mNone\u001b[0m, \u001b[38;5;34m2\u001b[0m, \u001b[38;5;34m2\u001b[0m, \u001b[38;5;34m64\u001b[0m)       │             \u001b[38;5;34m0\u001b[0m │\n",
       "├─────────────────────────────────┼────────────────────────┼───────────────┤\n",
       "│ flatten (\u001b[38;5;33mFlatten\u001b[0m)               │ (\u001b[38;5;45mNone\u001b[0m, \u001b[38;5;34m256\u001b[0m)            │             \u001b[38;5;34m0\u001b[0m │\n",
       "├─────────────────────────────────┼────────────────────────┼───────────────┤\n",
       "│ dense (\u001b[38;5;33mDense\u001b[0m)                   │ (\u001b[38;5;45mNone\u001b[0m, \u001b[38;5;34m128\u001b[0m)            │        \u001b[38;5;34m32,896\u001b[0m │\n",
       "├─────────────────────────────────┼────────────────────────┼───────────────┤\n",
       "│ dense_1 (\u001b[38;5;33mDense\u001b[0m)                 │ (\u001b[38;5;45mNone\u001b[0m, \u001b[38;5;34m10\u001b[0m)             │         \u001b[38;5;34m1,290\u001b[0m │\n",
       "└─────────────────────────────────┴────────────────────────┴───────────────┘\n"
      ]
     },
     "metadata": {},
     "output_type": "display_data"
    },
    {
     "data": {
      "text/html": [
       "<pre style=\"white-space:pre;overflow-x:auto;line-height:normal;font-family:Menlo,'DejaVu Sans Mono',consolas,'Courier New',monospace\"><span style=\"font-weight: bold\"> Total params: </span><span style=\"color: #00af00; text-decoration-color: #00af00\">106,234</span> (414.98 KB)\n",
       "</pre>\n"
      ],
      "text/plain": [
       "\u001b[1m Total params: \u001b[0m\u001b[38;5;34m106,234\u001b[0m (414.98 KB)\n"
      ]
     },
     "metadata": {},
     "output_type": "display_data"
    },
    {
     "data": {
      "text/html": [
       "<pre style=\"white-space:pre;overflow-x:auto;line-height:normal;font-family:Menlo,'DejaVu Sans Mono',consolas,'Courier New',monospace\"><span style=\"font-weight: bold\"> Trainable params: </span><span style=\"color: #00af00; text-decoration-color: #00af00\">106,234</span> (414.98 KB)\n",
       "</pre>\n"
      ],
      "text/plain": [
       "\u001b[1m Trainable params: \u001b[0m\u001b[38;5;34m106,234\u001b[0m (414.98 KB)\n"
      ]
     },
     "metadata": {},
     "output_type": "display_data"
    },
    {
     "data": {
      "text/html": [
       "<pre style=\"white-space:pre;overflow-x:auto;line-height:normal;font-family:Menlo,'DejaVu Sans Mono',consolas,'Courier New',monospace\"><span style=\"font-weight: bold\"> Non-trainable params: </span><span style=\"color: #00af00; text-decoration-color: #00af00\">0</span> (0.00 B)\n",
       "</pre>\n"
      ],
      "text/plain": [
       "\u001b[1m Non-trainable params: \u001b[0m\u001b[38;5;34m0\u001b[0m (0.00 B)\n"
      ]
     },
     "metadata": {},
     "output_type": "display_data"
    }
   ],
   "source": [
    "from keras.models import Model\n",
    "from keras.layers import Input, Conv2D, Dense, Flatten, MaxPool2D\n",
    "\n",
    "inputs = Input(shape=(64, 64, 1))\n",
    "layer = Conv2D(16, 5, strides=(2, 2), activation='relu')(inputs)\n",
    "layer = Conv2D(16, 3, activation='relu')(layer)\n",
    "layer = MaxPool2D()(layer)\n",
    "\n",
    "layer = Conv2D(32, 3, activation='relu')(layer)\n",
    "layer = Conv2D(32, 3, activation='relu')(layer)\n",
    "layer = MaxPool2D()(layer)\n",
    "\n",
    "layer = Conv2D(64, 3, padding='same', activation='relu')(layer)\n",
    "layer = Conv2D(64, 3, padding='same', activation='relu')(layer)\n",
    "layer = MaxPool2D()(layer)\n",
    "\n",
    "layer = Flatten()(layer)\n",
    "layer = Dense(128, activation='relu')(layer)\n",
    "probs = Dense(10, activation='softmax')(layer)\n",
    "\n",
    "target_model = Model(inputs, probs)\n",
    "target_model.summary()"
   ]
  },
  {
   "cell_type": "code",
   "execution_count": 4,
   "metadata": {},
   "outputs": [],
   "source": [
    "from keras.optimizers import Adam\n",
    "\n",
    "opt = Adam(1e-3)\n",
    "target_model.compile(opt, loss='categorical_crossentropy',\n",
    "              metrics=['accuracy'])"
   ]
  },
  {
   "cell_type": "code",
   "execution_count": 5,
   "metadata": {},
   "outputs": [
    {
     "name": "stdout",
     "output_type": "stream",
     "text": [
      "Epoch 1/15\n",
      "\u001b[1m46/46\u001b[0m \u001b[32m━━━━━━━━━━━━━━━━━━━━\u001b[0m\u001b[37m\u001b[0m \u001b[1m4s\u001b[0m 23ms/step - accuracy: 0.1551 - loss: 2.2330 - val_accuracy: 0.5615 - val_loss: 1.2214\n",
      "Epoch 2/15\n",
      "\u001b[1m46/46\u001b[0m \u001b[32m━━━━━━━━━━━━━━━━━━━━\u001b[0m\u001b[37m\u001b[0m \u001b[1m1s\u001b[0m 16ms/step - accuracy: 0.6549 - loss: 1.0459 - val_accuracy: 0.7557 - val_loss: 0.6847\n",
      "Epoch 3/15\n",
      "\u001b[1m46/46\u001b[0m \u001b[32m━━━━━━━━━━━━━━━━━━━━\u001b[0m\u001b[37m\u001b[0m \u001b[1m1s\u001b[0m 16ms/step - accuracy: 0.7866 - loss: 0.6309 - val_accuracy: 0.8754 - val_loss: 0.3983\n",
      "Epoch 4/15\n",
      "\u001b[1m46/46\u001b[0m \u001b[32m━━━━━━━━━━━━━━━━━━━━\u001b[0m\u001b[37m\u001b[0m \u001b[1m1s\u001b[0m 14ms/step - accuracy: 0.9023 - loss: 0.2907 - val_accuracy: 0.9191 - val_loss: 0.2870\n",
      "Epoch 5/15\n",
      "\u001b[1m46/46\u001b[0m \u001b[32m━━━━━━━━━━━━━━━━━━━━\u001b[0m\u001b[37m\u001b[0m \u001b[1m1s\u001b[0m 13ms/step - accuracy: 0.9365 - loss: 0.2113 - val_accuracy: 0.9369 - val_loss: 0.2599\n",
      "Epoch 6/15\n",
      "\u001b[1m46/46\u001b[0m \u001b[32m━━━━━━━━━━━━━━━━━━━━\u001b[0m\u001b[37m\u001b[0m \u001b[1m1s\u001b[0m 13ms/step - accuracy: 0.9558 - loss: 0.1424 - val_accuracy: 0.9466 - val_loss: 0.2126\n",
      "Epoch 7/15\n",
      "\u001b[1m46/46\u001b[0m \u001b[32m━━━━━━━━━━━━━━━━━━━━\u001b[0m\u001b[37m\u001b[0m \u001b[1m1s\u001b[0m 13ms/step - accuracy: 0.9705 - loss: 0.1054 - val_accuracy: 0.9515 - val_loss: 0.2186\n",
      "Epoch 8/15\n",
      "\u001b[1m46/46\u001b[0m \u001b[32m━━━━━━━━━━━━━━━━━━━━\u001b[0m\u001b[37m\u001b[0m \u001b[1m1s\u001b[0m 17ms/step - accuracy: 0.9868 - loss: 0.0504 - val_accuracy: 0.9482 - val_loss: 0.2116\n",
      "Epoch 9/15\n",
      "\u001b[1m46/46\u001b[0m \u001b[32m━━━━━━━━━━━━━━━━━━━━\u001b[0m\u001b[37m\u001b[0m \u001b[1m1s\u001b[0m 12ms/step - accuracy: 0.9863 - loss: 0.0457 - val_accuracy: 0.9142 - val_loss: 0.3692\n",
      "Epoch 10/15\n",
      "\u001b[1m46/46\u001b[0m \u001b[32m━━━━━━━━━━━━━━━━━━━━\u001b[0m\u001b[37m\u001b[0m \u001b[1m1s\u001b[0m 12ms/step - accuracy: 0.9765 - loss: 0.0691 - val_accuracy: 0.9191 - val_loss: 0.3399\n",
      "Epoch 11/15\n",
      "\u001b[1m46/46\u001b[0m \u001b[32m━━━━━━━━━━━━━━━━━━━━\u001b[0m\u001b[37m\u001b[0m \u001b[1m1s\u001b[0m 13ms/step - accuracy: 0.9639 - loss: 0.1052 - val_accuracy: 0.9466 - val_loss: 0.2011\n",
      "Epoch 12/15\n",
      "\u001b[1m46/46\u001b[0m \u001b[32m━━━━━━━━━━━━━━━━━━━━\u001b[0m\u001b[37m\u001b[0m \u001b[1m1s\u001b[0m 12ms/step - accuracy: 0.9918 - loss: 0.0301 - val_accuracy: 0.9466 - val_loss: 0.2261\n",
      "Epoch 13/15\n",
      "\u001b[1m46/46\u001b[0m \u001b[32m━━━━━━━━━━━━━━━━━━━━\u001b[0m\u001b[37m\u001b[0m \u001b[1m1s\u001b[0m 12ms/step - accuracy: 0.9983 - loss: 0.0092 - val_accuracy: 0.9482 - val_loss: 0.2470\n",
      "Epoch 14/15\n",
      "\u001b[1m46/46\u001b[0m \u001b[32m━━━━━━━━━━━━━━━━━━━━\u001b[0m\u001b[37m\u001b[0m \u001b[1m1s\u001b[0m 12ms/step - accuracy: 0.9962 - loss: 0.0129 - val_accuracy: 0.9612 - val_loss: 0.2374\n",
      "Epoch 15/15\n",
      "\u001b[1m46/46\u001b[0m \u001b[32m━━━━━━━━━━━━━━━━━━━━\u001b[0m\u001b[37m\u001b[0m \u001b[1m1s\u001b[0m 13ms/step - accuracy: 0.9991 - loss: 0.0038 - val_accuracy: 0.9612 - val_loss: 0.2308\n"
     ]
    },
    {
     "data": {
      "text/plain": [
       "<keras.src.callbacks.history.History at 0x24835be5090>"
      ]
     },
     "execution_count": 5,
     "metadata": {},
     "output_type": "execute_result"
    }
   ],
   "source": [
    "target_model.fit(x_train, y_train, \n",
    "                 validation_data=(x_test, y_test),\n",
    "                 epochs=15)"
   ]
  },
  {
   "cell_type": "markdown",
   "metadata": {},
   "source": [
    "## Section 2: Build an \"oracle dataset\" and data pipeline\n",
    "Now, we'll treat the target model as a black box: pretend we don't have access to its weights or its original input data.\n",
    "In the wild, all we can do is give it inputs and see its outputs.\n",
    "\n",
    "We want to train a surrogate model to act similarly to the target model, so create a fake \"oracle dataset\" where the features are `x_all` and the outputs are the 10-vectors of probability the target model predicts for that input.\n",
    "\n",
    "Then, set up any `tf.data.Dataset` objects you need.\n",
    "In this case we don't have a test set, just a training set. Add `tf.summary.SummaryWriter`s to save logs to `./logs/surrogate` and `./logs/adversarial`."
   ]
  },
  {
   "cell_type": "code",
   "execution_count": 6,
   "metadata": {},
   "outputs": [
    {
     "name": "stdout",
     "output_type": "stream",
     "text": [
      "\u001b[1m17/17\u001b[0m \u001b[32m━━━━━━━━━━━━━━━━━━━━\u001b[0m\u001b[37m\u001b[0m \u001b[1m0s\u001b[0m 17ms/step\n"
     ]
    }
   ],
   "source": [
    "oracle_outputs = target_model.predict(x_all, batch_size=128)\n",
    "\n",
    "surrogate_dataset = tf.data.Dataset.from_tensor_slices((x_all, oracle_outputs))\n",
    "surrogate_dataset = surrogate_dataset.shuffle(buffer_size=1024, reshuffle_each_iteration=True)\n",
    "surrogate_dataset = surrogate_dataset.batch(64).prefetch(tf.data.AUTOTUNE)\n",
    "\n",
    "# SummaryWriters\n",
    "surrogate_log_dir = \"./logs/surrogate\"\n",
    "adversarial_log_dir = \"./logs/adversarial\"\n",
    "\n",
    "surrogate_writer = tf.summary.create_file_writer(surrogate_log_dir)\n",
    "adversarial_writer = tf.summary.create_file_writer(adversarial_log_dir)"
   ]
  },
  {
   "cell_type": "markdown",
   "metadata": {},
   "source": [
    "## Section 3: Build a surrogate model\n",
    "The surrogate model is designed to act similarly to the target model, so that adversarial examples we create for it will also work on the target model.\n",
    "Feel free to use any architecture you want, but matching the target architecture closely (maybe with a bit more capacity) is a good bet.\n",
    "\n",
    "Copy code from last week's assignment liberally.\n",
    "Most likely, you won't have to write all that much new code in this section.\n",
    "\n",
    "This should involve tensors that:\n",
    " - Act as hidden convolutional and dense layers\n",
    " - Compute the logits and probabilities for a batch of input images\n",
    " - Compute the predicted digit from the probabilities\n",
    " - Compute the mean cross-entropy loss over a batch"
   ]
  },
  {
   "cell_type": "markdown",
   "metadata": {},
   "source": [
    "### 3.1 Dense and convolutional layers\n",
    "Copy the `Dense` and `Conv` classes you wrote last week here."
   ]
  },
  {
   "cell_type": "code",
   "execution_count": 7,
   "metadata": {},
   "outputs": [],
   "source": [
    "class Dense(tf.Module):\n",
    "    '''\n",
    "    Creates a dense layer module.\n",
    "\n",
    "    Parameters\n",
    "    ----------\n",
    "    dim_input: int\n",
    "        Number of features in the input representation.\n",
    "    dim_output: int\n",
    "        Number of features in the output representation.\n",
    "    do_activation: bool\n",
    "        Whether or not to apply ReLU activation.\n",
    "    postfix: string\n",
    "        Postfix on name scopes in this layer.\n",
    "    name: string\n",
    "        Name of layer.\n",
    "    '''\n",
    "    def __init__(self, dim_input, dim_output, do_activation=True, postfix='', name=None):\n",
    "        super().__init__(name=name)\n",
    "        self.do_activation = do_activation\n",
    "        self.dim_input = dim_input\n",
    "        self.dim_output = dim_output\n",
    "\n",
    "        with tf.name_scope('dense' + postfix):\n",
    "            # Weight matrix shape: [input_dim, output_dim]\n",
    "            self.w = tf.Variable(\n",
    "                tf.initializers.he_uniform()(shape=(dim_input, dim_output), dtype=tf.float64),\n",
    "                name='weights',\n",
    "                dtype=tf.float64\n",
    "            )\n",
    "            # Bias vector shape: [output_dim]\n",
    "            self.b = tf.Variable(\n",
    "                tf.zeros_initializer()(shape=(dim_output,), dtype=tf.float64),\n",
    "                name='bias',\n",
    "                dtype = tf.float64\n",
    "            )\n",
    "\n",
    "    def __call__(self, x):\n",
    "        z = tf.matmul(x, self.w) + self.b\n",
    "        if self.do_activation:\n",
    "            return tf.nn.relu(z)\n",
    "        return z\n",
    "    \n",
    "class Conv(tf.Module):\n",
    "    '''\n",
    "    Creates a convolutional layer module.\n",
    "    \n",
    "    Parameters\n",
    "    ----------\n",
    "    input_channels: int\n",
    "        Number of channels in the input representation.\n",
    "    n_filters: int\n",
    "        Number of channels in the output representation.\n",
    "        Equivalently, number of filters in this layer.\n",
    "    filter_size: int\n",
    "        Width and height of each kernel in the layer's filters.\n",
    "    stride: int\n",
    "        Stride to use in the x and y directions for the\n",
    "        convolution operation.\n",
    "    do_activation: bool\n",
    "        Whether or not to apply ReLU activation.\n",
    "    pool_size: int\n",
    "        If > 1, does max pooling of this size to the\n",
    "        width and height axes of the activation.\n",
    "    postfix: string\n",
    "        Postfix on name and variable scopes in this layer.\n",
    "        Used to simplify visualizations.\n",
    "    name: string\n",
    "        Name of layer\n",
    "        \n",
    "    Returns\n",
    "    -------\n",
    "    A tensor representing the activations of this layer.\n",
    "    '''\n",
    "    def __init__(self, input_channels, n_filters, \n",
    "                 filter_size=3, stride=1,\n",
    "                 do_activation=True, pool_size=1,\n",
    "                 postfix='', name=None):\n",
    "        super().__init__(name=name)\n",
    "        self.input_channels = input_channels\n",
    "        self.n_filters = n_filters\n",
    "        self.filter_size = filter_size\n",
    "        self.stride = stride\n",
    "        self.do_activation = do_activation\n",
    "        self.pool_size = pool_size\n",
    "\n",
    "        with tf.name_scope('conv' + postfix):\n",
    "            # [filter_height, filter_width, in_channels, out_channels]\n",
    "            self.filters = tf.Variable(\n",
    "                tf.initializers.he_uniform()(shape=(filter_size, filter_size, input_channels, n_filters), dtype=tf.float64),\n",
    "                name='filters',\n",
    "                dtype=tf.float64\n",
    "            )\n",
    "            self.biases = tf.Variable(\n",
    "                tf.zeros_initializer()(shape=(n_filters,), dtype=tf.float64),\n",
    "                name='biases',\n",
    "                dtype=tf.float64\n",
    ")\n",
    "\n",
    "\n",
    "    def image(self, x):\n",
    "        '''\n",
    "        Applies convolution and activation, but NOT pooling.\n",
    "        Used for visualizing intermediate activations.\n",
    "        '''\n",
    "        conv_out = tf.nn.conv2d(\n",
    "            x, self.filters, \n",
    "            strides=[1, self.stride, self.stride, 1], \n",
    "            padding='SAME')\n",
    "        conv_out = tf.nn.bias_add(conv_out, self.biases)\n",
    "\n",
    "        if self.do_activation:\n",
    "            conv_out = tf.nn.relu(conv_out)\n",
    "\n",
    "        return conv_out\n",
    "\n",
    "    def __call__(self, x):\n",
    "        '''\n",
    "        Applies convolution, activation (if specified), and pooling (if pool_size > 1).\n",
    "        '''\n",
    "        x = self.image(x)\n",
    "\n",
    "        if self.pool_size > 1:\n",
    "            x = tf.nn.max_pool(\n",
    "                x,\n",
    "                ksize=[1, self.pool_size, self.pool_size, 1],\n",
    "                strides=[1, self.pool_size, self.pool_size, 1],\n",
    "                padding='VALID')\n",
    "\n",
    "        return x"
   ]
  },
  {
   "cell_type": "markdown",
   "metadata": {},
   "source": [
    "### 3.2: The rest of the model\n",
    "Write a `tf.Module` class called `Surrogate` that uses your classes from last week to be your surrogate model."
   ]
  },
  {
   "cell_type": "code",
   "execution_count": 8,
   "metadata": {},
   "outputs": [],
   "source": [
    "class Surrogate(tf.Module):\n",
    "    def __init__(self, name='surrogate'):\n",
    "        super().__init__(name=name)\n",
    "\n",
    "        self.conv1 = Conv(input_channels=1, n_filters=8, filter_size=3, stride=1, pool_size=2, postfix='1')\n",
    "        self.conv2 = Conv(input_channels=8, n_filters=16, filter_size=3, stride=1, pool_size=2, postfix='2')\n",
    "        self.conv3 = Conv(input_channels=16, n_filters=32, filter_size=3, stride=1, pool_size=2, postfix='3')\n",
    "        self.dense1 = Dense(dim_input=2048, dim_output=128, do_activation=True, name='dense1')\n",
    "        self.dense2 = Dense(dim_input=128, dim_output=10, do_activation=False, name='dense2')\n",
    "\n",
    "        self.surrogate_optimizer = tf.optimizers.SGD(learning_rate=1e-3, momentum=0.9)\n",
    "        self.adversarial_optimizer = tf.optimizers.Adam(learning_rate=1e-2)  # Higher LR often helps\n",
    "\n",
    "        self.noise = tf.Variable(\n",
    "            initial_value=tf.zeros([64, 64, 1], dtype=tf.float64),\n",
    "            trainable=True,\n",
    "            constraint=lambda x: tf.clip_by_value(x, -0.6, 0.6),\n",
    "            name='adversarial_noise'\n",
    "        )\n",
    "        \n",
    "        self.use_noise = tf.Variable(False, trainable=False, name='use_noise')\n",
    "\n",
    "    def _noise_switch(self, x):\n",
    "        def add_noise():\n",
    "            x0_perturbed = x[0] + self.noise\n",
    "            x_perturbed = tf.concat([tf.expand_dims(x0_perturbed, axis=0), x[1:]], axis=0)\n",
    "            return x_perturbed\n",
    "\n",
    "        return tf.cond(self.use_noise, true_fn=add_noise, false_fn=lambda: x)\n",
    "\n",
    "    def logits(self, x):\n",
    "        x = self._noise_switch(x)\n",
    "        x = self.conv1(x)\n",
    "        x = self.conv2(x)\n",
    "        x = self.conv3(x)\n",
    "        x = tf.reshape(x, [x.shape[0], -1]) \n",
    "        x = self.dense1(x)\n",
    "        return self.dense2(x)\n",
    "\n",
    "    def __call__(self, x):\n",
    "        return tf.nn.softmax(self.logits(x))\n",
    "\n",
    "    def _loss(self, x, y_true):\n",
    "        logits = self.logits(x)\n",
    "        per_example_loss = tf.nn.softmax_cross_entropy_with_logits(labels=y_true, logits=logits)\n",
    "        return tf.reduce_mean(per_example_loss)\n",
    "\n",
    "    def _accuracy(self, x, y_true):\n",
    "        logits = self.logits(x)\n",
    "        preds = tf.argmax(logits, axis=1)\n",
    "        labels = tf.argmax(y_true, axis=1)\n",
    "        correct = tf.cast(tf.equal(preds, labels), tf.float64)\n",
    "        return tf.reduce_mean(correct)\n",
    "    \n",
    "    def train(self, x, y, writer, step, adversarial=False):\n",
    "        \n",
    "        with tf.GradientTape() as tape:\n",
    "            logits = self.logits(x)\n",
    "            loss = tf.reduce_mean(tf.nn.softmax_cross_entropy_with_logits(labels=y, logits=logits))\n",
    "\n",
    "            if not adversarial:\n",
    "                gradients = tape.gradient(loss, self.trainable_variables)\n",
    "                self.surrogate_optimizer.apply_gradients(\n",
    "                    (grad, var) for grad, var in zip(gradients, self.trainable_variables) if grad is not None\n",
    "                )\n",
    "\n",
    "                acc = self._accuracy(x, y)\n",
    "                with writer.as_default():\n",
    "                    tf.summary.scalar('train/loss', loss, step=step)\n",
    "                    tf.summary.scalar('train/accuracy', acc, step=step)\n",
    "\n",
    "                return loss, acc\n",
    "\n",
    "            else:\n",
    "                adv_loss = -loss\n",
    "                grads = tape.gradient(adv_loss, [self.noise])\n",
    "                self.adversarial_optimizer.apply_gradients(zip(grads, [self.noise]))\n",
    "                with writer.as_default():\n",
    "                    tf.summary.scalar('adversarial/loss', adv_loss, step=step)\n",
    "                    tf.summary.histogram('adversarial/noise_hist', self.noise, step=step)\n",
    "                    tf.summary.image('adversarial/noise_image', tf.expand_dims(self.noise, axis=0), step=step)\n",
    "                    tf.summary.image('adversarial/adversarial_example',\n",
    "                                    tf.expand_dims(x[0] + self.noise, axis=0), step=step)\n",
    "\n",
    "                return adv_loss, None\n",
    "\n",
    "    def test(self, x, y, writer, step, image=False):\n",
    "        if image:\n",
    "            a1 = self.conv1.image(x)\n",
    "            x1 = self.conv1(x)\n",
    "            a2 = self.conv2.image(x1)\n",
    "            x2 = self.conv2(x1)\n",
    "            a3 = self.conv3.image(x2)\n",
    "\n",
    "            with writer.as_default():\n",
    "                for i in range(a1.shape[-1]):\n",
    "                    tf.summary.image(f'activations/conv1/filter{i}', a1[..., i:i+1], step=step, max_outputs=1)\n",
    "                for i in range(a2.shape[-1]):\n",
    "                    tf.summary.image(f'activations/conv2/filter{i}', a2[..., i:i+1], step=step, max_outputs=1)\n",
    "                for i in range(a3.shape[-1]):\n",
    "                    tf.summary.image(f'activations/conv3/filter{i}', a3[..., i:i+1], step=step, max_outputs=1)\n",
    "\n",
    "            return None, None\n",
    "\n",
    "        loss = self._loss(x, y)\n",
    "        acc = self._accuracy(x, y)\n",
    "\n",
    "        with writer.as_default():\n",
    "            tf.summary.scalar('test/loss', loss, step=step)\n",
    "            tf.summary.scalar('test/accuracy', acc, step=step)\n",
    "\n",
    "        return loss, acc"
   ]
  },
  {
   "cell_type": "markdown",
   "metadata": {},
   "source": [
    "#### 3.2.1: Adversarial noise\n",
    "This is the only part of the model that really differs from last week, and it's a bit tricky.\n",
    "\n",
    "Add a variable that represents the adversarial noise we'll add to one example.\n",
    "It should be the shape of a single input image and initialized to zeros.\n",
    "In addition, pass (to the `Variable()` constructor) the keyword argument `constraint=lambda x: tf.clip_by_value(x, -0.3, 0.3)`.\n",
    "Every time the variable is updated, it will become the result of the lambda function, which in this case constrains its pixel values to be in the range -0.3 to 0.3.\n",
    "(Equivalently, at every step we re-project the adversarial noise back into a hypercube at the origin with side length 0.6).\n",
    "I found that 0.3 works well, but feel free to change this value -- smaller values will produce less obvious noise, while larger values will produce more successful attacks. \n",
    "\n",
    "Add a boolean `tf.Variable` (default False) named \"use_noise\".\n",
    "This will act as a \"switch\" controlling whether a given run uses adversarial noise. Additionally, add the argument `trainable=False` to the constructor, as it makes no sense to update this variable during training.\n",
    "\n",
    "Add a `tf.cond()` operation that, depending on `use_noise`, switches between the input image and the image plus the adversarial noise.\n",
    "This allows us to train the surrogate model without adversarial noise, then enable it when crafting the adversarial example."
   ]
  },
  {
   "cell_type": "markdown",
   "metadata": {},
   "source": [
    "### 3.3: Compute cross-entropy loss\n",
    "Write a `_loss` function to compute the cross-entropy loss."
   ]
  },
  {
   "cell_type": "markdown",
   "metadata": {},
   "source": [
    "### 3.4: Surrogate and adversarial loss and gradients\n",
    "Add an optimizer and train method we'll use to train the surrogate model to act like the target model.\n",
    "It should just minimize the cross-entropy loss between the model's predictions and the targets. When `use_noise` is false, we will not have any gradients to update the adversarial noise tensor with because it will not be referenced in our computation. This will cause TensorFlow to throw (very annoying) warning messages about nonexistent gradients. To suppress this, we can use this neat trick (credit [here](https://stackoverflow.com/questions/60022462/how-to-suppress-specific-warning-in-tensorflow-python)) to preprocess our gradients,\n",
    "```\n",
    "gradients = g.gradient(loss, model.trainable_variables)\n",
    "surrogate_optimizer.apply_gradients( \n",
    "                            (grad, var) for (grad, var) in zip(gradients, model.trainable_variables)\n",
    "                             if grad is not None)\n",
    "```\n",
    "\n",
    "When training the surrogate model, we want to change the model parameters to minimize the loss.\n",
    "When creating the adversarial example, we want to do something very different: _change the adversarial noise tensor alone to maximize the loss_.\n",
    "\n",
    "So, add an `adversarial=False` argument to your train method so we can toggle whether or not to train the surrogate model, or the adversarial noise.\n",
    "\n",
    "Define a new adversarial loss which is the negative of the original loss, and a new optimizer to minimize it.\n",
    "When you call `minimize()`, pass in the keyword argument `var_list=[model.noise]`, where \"noise\" is the name of your adversarial noise tensor.\n",
    "This will prevent the optimizer from changing the weights of the model when we optimize the adversarial noise.\n",
    "\n",
    "Add a summary scalar to plot the adversarial loss decreasing. Then, add a summary histogram and a summary image for the adversarial noise tensor, so we can plot it as we're learning the adversarial example.\n",
    "Finally, add a summary image for the output of `cond`, which will be our adversarial example later."
   ]
  },
  {
   "cell_type": "markdown",
   "metadata": {},
   "source": [
    "## Section 4: Train the surrogate model\n",
    "Train your surrogate model until it hits high accuracy.\n",
    "At the very least it should have 90% accuracy -- I hit 98-100% on the training set.\n",
    "Overfitting isn't really a concern here since we are actually trying to memorize the target model.\n",
    "\n",
    "When the training loop is done, save the model under `./checkpoints/model_surrogate`.\n",
    "We won't be modifying this particular checkpoint any more, it'll contain the fully-trained surrogate model with zero adversarial noise."
   ]
  },
  {
   "cell_type": "code",
   "execution_count": 9,
   "metadata": {},
   "outputs": [
    {
     "name": "stdout",
     "output_type": "stream",
     "text": [
      "Epoch 1/50\n",
      "Training accuracy after epoch 1: 0.3986\n",
      "Epoch 2/50\n",
      "Training accuracy after epoch 2: 0.5892\n",
      "Epoch 3/50\n",
      "Training accuracy after epoch 3: 0.6823\n",
      "Epoch 4/50\n",
      "Training accuracy after epoch 4: 0.7536\n",
      "Epoch 5/50\n",
      "Training accuracy after epoch 5: 0.7881\n",
      "Epoch 6/50\n",
      "Training accuracy after epoch 6: 0.8312\n",
      "Epoch 7/50\n",
      "Training accuracy after epoch 7: 0.8201\n",
      "Epoch 8/50\n",
      "Training accuracy after epoch 8: 0.8618\n",
      "Epoch 9/50\n",
      "Training accuracy after epoch 9: 0.8749\n",
      "Epoch 10/50\n",
      "Training accuracy after epoch 10: 0.8686\n",
      "Epoch 11/50\n",
      "Training accuracy after epoch 11: 0.9064\n",
      "Epoch 12/50\n",
      "Training accuracy after epoch 12: 0.8880\n",
      "Epoch 13/50\n",
      "Training accuracy after epoch 13: 0.8967\n",
      "Epoch 14/50\n",
      "Training accuracy after epoch 14: 0.9117\n",
      "Epoch 15/50\n",
      "Training accuracy after epoch 15: 0.9273\n",
      "Epoch 16/50\n",
      "Training accuracy after epoch 16: 0.9292\n",
      "Epoch 17/50\n",
      "Training accuracy after epoch 17: 0.9306\n",
      "Epoch 18/50\n",
      "Training accuracy after epoch 18: 0.9500\n",
      "Epoch 19/50\n",
      "Training accuracy after epoch 19: 0.9554\n",
      "Epoch 20/50\n",
      "Training accuracy after epoch 20: 0.9588\n",
      "Epoch 21/50\n",
      "Training accuracy after epoch 21: 0.9549\n",
      "Epoch 22/50\n",
      "Training accuracy after epoch 22: 0.9631\n",
      "Epoch 23/50\n",
      "Training accuracy after epoch 23: 0.9680\n",
      "Epoch 24/50\n",
      "Training accuracy after epoch 24: 0.9709\n",
      "Epoch 25/50\n",
      "Training accuracy after epoch 25: 0.9680\n",
      "Epoch 26/50\n",
      "Training accuracy after epoch 26: 0.9641\n",
      "Epoch 27/50\n",
      "Training accuracy after epoch 27: 0.9806\n",
      "Epoch 28/50\n",
      "Training accuracy after epoch 28: 0.9690\n",
      "Epoch 29/50\n",
      "Training accuracy after epoch 29: 0.9840\n",
      "Epoch 30/50\n",
      "Training accuracy after epoch 30: 0.9855\n",
      "Epoch 31/50\n",
      "Training accuracy after epoch 31: 0.9656\n",
      "Epoch 32/50\n",
      "Training accuracy after epoch 32: 0.9845\n",
      "Epoch 33/50\n",
      "Training accuracy after epoch 33: 0.9850\n",
      "Epoch 34/50\n",
      "Training accuracy after epoch 34: 0.9840\n",
      "Epoch 35/50\n",
      "Training accuracy after epoch 35: 0.9864\n",
      "Epoch 36/50\n",
      "Training accuracy after epoch 36: 0.9772\n",
      "Epoch 37/50\n",
      "Training accuracy after epoch 37: 0.9855\n",
      "Epoch 38/50\n",
      "Training accuracy after epoch 38: 0.9913\n",
      "Epoch 39/50\n",
      "Training accuracy after epoch 39: 0.9918\n",
      "Epoch 40/50\n",
      "Training accuracy after epoch 40: 0.9947\n",
      "Epoch 41/50\n",
      "Training accuracy after epoch 41: 0.9971\n",
      "Epoch 42/50\n",
      "Training accuracy after epoch 42: 0.9956\n",
      "Epoch 43/50\n",
      "Training accuracy after epoch 43: 0.9976\n",
      "Epoch 44/50\n",
      "Training accuracy after epoch 44: 0.9961\n",
      "Epoch 45/50\n",
      "Training accuracy after epoch 45: 0.9966\n",
      "Epoch 46/50\n",
      "Training accuracy after epoch 46: 0.9981\n",
      "Epoch 47/50\n",
      "Training accuracy after epoch 47: 0.9976\n",
      "Epoch 48/50\n",
      "Training accuracy after epoch 48: 0.9966\n",
      "Epoch 49/50\n",
      "Training accuracy after epoch 49: 0.9971\n",
      "Epoch 50/50\n",
      "Training accuracy after epoch 50: 0.9990\n",
      "Model saved to ./checkpoints/model_surrogate/ckpt\n"
     ]
    }
   ],
   "source": [
    "# chkpt dir\n",
    "checkpoint_dir = './checkpoints/model_surrogate'\n",
    "os.makedirs(checkpoint_dir, exist_ok=True)\n",
    "\n",
    "surrogate_model = Surrogate()\n",
    "surrogate_model.use_noise.assign(False)\n",
    "\n",
    "logdir = './logs/surrogate'\n",
    "writer = tf.summary.create_file_writer(logdir)\n",
    "\n",
    "max_epochs = 50\n",
    "step = 0\n",
    "\n",
    "for epoch in range(max_epochs):\n",
    "    print(f\"Epoch {epoch + 1}/{max_epochs}\")\n",
    "    \n",
    "    for batch_x, batch_y in surrogate_dataset:\n",
    "        loss, acc = surrogate_model.train(batch_x, batch_y, writer, step)\n",
    "        step += 1\n",
    "\n",
    "    # accuracy on training set\n",
    "    full_accuracy = surrogate_model._accuracy(x_all, oracle_outputs).numpy()\n",
    "    print(f\"Training accuracy after epoch {epoch + 1}: {full_accuracy:.4f}\")\n",
    "\n",
    "# checkpoint\n",
    "ckpt = tf.train.Checkpoint(model=surrogate_model)\n",
    "ckpt.write(os.path.join(checkpoint_dir, 'ckpt'))\n",
    "print(f\"Model saved to {checkpoint_dir}/ckpt\")\n"
   ]
  },
  {
   "cell_type": "markdown",
   "metadata": {},
   "source": [
    "## Section 5: Learn the adversarial example\n",
    "Finally, it's time to create an adversarial example using our surrogate model.\n",
    "Pick an image from the test set (or use the one I picked below), then run a training loop to minimize the adversarial loss (equivalently, maximize the model loss on that example).\n",
    "To do this, use `surrogate_model.use_noise.assign(True)`.\n",
    "This turns on the `use_noise` switch we set before, and overwrites the input image with the image we're going to turn into an adversarial example.\n",
    "\n",
    "When it's done, save it to a new checkpoint, `./checkpoints/model_adversarial`.\n",
    "This new checkpoint should have exactly the same model parameters as before (remember that we're only optimizing the noise), but a nonzero noise tensor.\n",
    "\n",
    "At the end, also save the adversarial example (which will be contained in the result of your `cond`) and the noise tensor to a numpy array so we can use them later.\n",
    "\n",
    "Periodically write the image and histogram summaries so you can look at them in TensorBoard later. \n",
    "\n",
    "You should be able to do this just by setting `adversarial=True` in your train method."
   ]
  },
  {
   "cell_type": "code",
   "execution_count": 10,
   "metadata": {},
   "outputs": [
    {
     "data": {
      "text/plain": [
       "Text(0.5, 1.0, 'Label: 9')"
      ]
     },
     "execution_count": 10,
     "metadata": {},
     "output_type": "execute_result"
    },
    {
     "data": {
      "image/png": "[encoded data removed]",
      "text/plain": [
       "<Figure size 640x480 with 1 Axes>"
      ]
     },
     "metadata": {},
     "output_type": "display_data"
    }
   ],
   "source": [
    "idx = 1\n",
    "img = x_test[idx]\n",
    "lbl = y_test[idx]\n",
    "\n",
    "plt.imshow(img[:, :, 0], cmap='gray')\n",
    "plt.title('Label: {}'.format(np.argmax(lbl)))"
   ]
  },
  {
   "cell_type": "code",
   "execution_count": null,
   "metadata": {},
   "outputs": [
    {
     "name": "stdout",
     "output_type": "stream",
     "text": [
      "[Step 0] Adversarial loss: 2.4135\n",
      "[Step 25] Adversarial loss: 11.1556\n",
      "[Step 50] Adversarial loss: 20.6567\n",
      "[Step 75] Adversarial loss: 29.2739\n",
      "[Step 100] Adversarial loss: 33.3408\n",
      "[Step 125] Adversarial loss: 35.3416\n",
      "[Step 150] Adversarial loss: 36.5228\n",
      "[Step 175] Adversarial loss: 37.4113\n",
      "[Step 200] Adversarial loss: 38.0126\n",
      "[Step 225] Adversarial loss: 38.4276\n",
      "[Step 250] Adversarial loss: 38.7698\n",
      "[Step 275] Adversarial loss: 39.0541\n",
      "[Step 300] Adversarial loss: 39.3274\n",
      "[Step 325] Adversarial loss: 39.5466\n",
      "[Step 350] Adversarial loss: 39.6988\n",
      "[Step 375] Adversarial loss: 40.0892\n",
      "[Step 400] Adversarial loss: 40.3912\n",
      "[Step 425] Adversarial loss: 40.5754\n",
      "[Step 450] Adversarial loss: 40.7287\n",
      "[Step 475] Adversarial loss: 40.8623\n",
      "[Step 500] Adversarial loss: 40.9858\n",
      "[Step 525] Adversarial loss: 41.0855\n",
      "[Step 550] Adversarial loss: 41.2096\n",
      "[Step 575] Adversarial loss: 41.2997\n",
      "[Step 600] Adversarial loss: 41.3671\n",
      "[Step 625] Adversarial loss: 41.4156\n",
      "[Step 650] Adversarial loss: 41.4641\n",
      "[Step 675] Adversarial loss: 41.5109\n",
      "[Step 700] Adversarial loss: 41.5498\n",
      "[Step 725] Adversarial loss: 41.5842\n",
      "[Step 750] Adversarial loss: 41.6101\n",
      "[Step 775] Adversarial loss: 41.6418\n",
      "[Step 800] Adversarial loss: 41.6900\n",
      "[Step 825] Adversarial loss: 41.7276\n",
      "[Step 850] Adversarial loss: 41.7794\n",
      "[Step 875] Adversarial loss: 41.8230\n",
      "[Step 900] Adversarial loss: 41.8693\n",
      "[Step 925] Adversarial loss: 41.9062\n",
      "[Step 950] Adversarial loss: 41.9377\n",
      "[Step 975] Adversarial loss: 41.9640\n",
      "Adversarial model checkpoint saved to ./checkpoints/model_adversarial/ckpt\n",
      "Saved adversarial example and noise as .npy files.\n"
     ]
    }
   ],
   "source": [
    "adversarial_ckpt_dir = './checkpoints/model_adversarial'\n",
    "os.makedirs(adversarial_ckpt_dir, exist_ok=True)\n",
    "\n",
    "logdir_adv = './logs/adversarial'\n",
    "adv_writer = tf.summary.create_file_writer(logdir_adv)\n",
    "\n",
    "adversarial_model = Surrogate()\n",
    "adversarial_model.use_noise.assign(True)\n",
    "\n",
    "test_img = x_test[0:1]\n",
    "true_label = y_test[0:1]\n",
    "\n",
    "# train\n",
    "num_steps = 1000  # or until loss converges\n",
    "for step in range(num_steps):\n",
    "    loss, _ = adversarial_model.train(test_img, true_label, adv_writer, step, adversarial=True)\n",
    "    if step % 25 == 0:\n",
    "        print(f\"[Step {step}] Adversarial loss: {-loss.numpy():.4f}\")\n",
    "\n",
    "# save checkpoint\n",
    "adv_ckpt = tf.train.Checkpoint(model=adversarial_model)\n",
    "adv_ckpt.write(os.path.join(adversarial_ckpt_dir, 'ckpt'))\n",
    "print(f\"Adversarial model checkpoint saved to {adversarial_ckpt_dir}/ckpt\")\n",
    "\n",
    "# extract adversarial noise and example image\n",
    "adv_example = test_img + adversarial_model.noise\n",
    "adv_example = tf.clip_by_value(adv_example, -1.0, 1.0).numpy()  # ensure it's in image range\n",
    "adv_noise = adversarial_model.noise.numpy()\n",
    "np.save('adversarial_example.npy', adv_example)\n",
    "np.save('adversarial_noise.npy', adv_noise)\n",
    "print(\"Saved adversarial example and noise as .npy files.\")\n"
   ]
  },
  {
   "cell_type": "markdown",
   "metadata": {},
   "source": [
    "## Section 6: Visualize the adversarial example\n",
    "Plot the original example, the adversarial example, and the adversarial noise below."
   ]
  },
  {
   "cell_type": "code",
   "execution_count": 12,
   "metadata": {},
   "outputs": [
    {
     "data": {
      "image/png": "[encoded data removed]",
      "text/plain": [
       "<Figure size 1200x400 with 3 Axes>"
      ]
     },
     "metadata": {},
     "output_type": "display_data"
    }
   ],
   "source": [
    "# remove batch dimension\n",
    "original = test_img[0]\n",
    "adversarial = adv_example[0]\n",
    "noise = adv_noise \n",
    "\n",
    "# scale to range for visual\n",
    "def to_display(img):\n",
    "    return (img + 1.0) / 2.0\n",
    "\n",
    "fig, axs = plt.subplots(1, 3, figsize=(12, 4))\n",
    "\n",
    "axs[0].imshow(to_display(original).squeeze(), cmap='gray')\n",
    "axs[0].set_title(\"Original Image\")\n",
    "axs[0].axis('off')\n",
    "\n",
    "axs[1].imshow(to_display(adversarial).squeeze(), cmap='gray')\n",
    "axs[1].set_title(\"Adversarial Example\")\n",
    "axs[1].axis('off')\n",
    "\n",
    "axs[2].imshow(to_display(noise.squeeze()), cmap='gray')\n",
    "axs[2].set_title(\"Adversarial Noise\")\n",
    "axs[2].axis('off')\n",
    "\n",
    "plt.tight_layout()\n",
    "plt.show()"
   ]
  },
  {
   "cell_type": "markdown",
   "metadata": {},
   "source": [
    "## Section 7: Demonstrate that the surrogate model fails on the adversarial example\n",
    "Compute the surrogate model's prediction and probability for the original example and the adversarial example, and compare them. Remember to set the `use_noise` switch to false when computing predictions."
   ]
  },
  {
   "cell_type": "code",
   "execution_count": 13,
   "metadata": {},
   "outputs": [
    {
     "name": "stdout",
     "output_type": "stream",
     "text": [
      "Original Image:\n",
      "  Predicted class: 6\n",
      "  Probabilities: [6.83363382e-06 1.66780936e-05 2.05186292e-03 1.13443829e-06\n",
      " 1.73339264e-03 4.60624609e-07 9.95849381e-01 3.39923401e-04\n",
      " 3.24024710e-07 9.18218108e-09]\n",
      "\n",
      " Adversarial Example:\n",
      "  Predicted class: 4\n",
      "  Probabilities: [2.95983071e-06 4.32653609e-14 3.50095219e-12 3.17813926e-10\n",
      " 9.98508779e-01 1.31733405e-03 4.77640463e-05 1.22708832e-04\n",
      " 4.53695128e-07 2.42456723e-10]\n"
     ]
    }
   ],
   "source": [
    "surrogate_model.use_noise.assign(False)\n",
    "\n",
    "# Prediction on original image\n",
    "logits_orig = surrogate_model.logits(test_img)\n",
    "probs_orig = tf.nn.softmax(logits_orig)\n",
    "pred_orig = tf.argmax(probs_orig, axis=1).numpy()[0]\n",
    "\n",
    "# Prediction on adversarial example\n",
    "adv_input = test_img + adversarial_model.noise \n",
    "\n",
    "logits_adv = surrogate_model.logits(adv_input)\n",
    "probs_adv = tf.nn.softmax(logits_adv)\n",
    "pred_adv = tf.argmax(probs_adv, axis=1).numpy()[0]\n",
    "\n",
    "# Display results\n",
    "print(\"Original Image:\")\n",
    "print(f\"  Predicted class: {pred_orig}\")\n",
    "print(f\"  Probabilities: {probs_orig.numpy()[0]}\")\n",
    "\n",
    "print(\"\\n Adversarial Example:\")\n",
    "print(f\"  Predicted class: {pred_adv}\")\n",
    "print(f\"  Probabilities: {probs_adv.numpy()[0]}\")"
   ]
  },
  {
   "cell_type": "markdown",
   "metadata": {},
   "source": [
    "## 8: Demonstrate that the target model fails on the adversarial example\n",
    "This is the real test -- transferring the learned adversarial example from the surrogate model to the target model.\n",
    "Compute the target model's prediction and probability for the original example and the adversarial example, and compare them."
   ]
  },
  {
   "cell_type": "code",
   "execution_count": 14,
   "metadata": {},
   "outputs": [
    {
     "name": "stdout",
     "output_type": "stream",
     "text": [
      "\u001b[1m17/17\u001b[0m \u001b[32m━━━━━━━━━━━━━━━━━━━━\u001b[0m\u001b[37m\u001b[0m \u001b[1m0s\u001b[0m 12ms/step\n",
      "\u001b[1m17/17\u001b[0m \u001b[32m━━━━━━━━━━━━━━━━━━━━\u001b[0m\u001b[37m\u001b[0m \u001b[1m0s\u001b[0m 12ms/step\n",
      "Adversarial Accuracy of target model on x_all: 78.03%\n"
     ]
    }
   ],
   "source": [
    "preds_orig_target = target_model.predict(x_all, batch_size=128)\n",
    "pred_labels_orig = np.argmax(preds_orig_target, axis=1)\n",
    "\n",
    "# add noise to all images\n",
    "adv_input = x_all + adversarial_model.noise\n",
    "\n",
    "# Get predictions on noisy data\n",
    "preds_adv_target = target_model.predict(adv_input, batch_size=128)\n",
    "pred_labels_adv = np.argmax(preds_adv_target, axis=1)\n",
    "\n",
    "# Ground truth labels\n",
    "true_labels = np.argmax(y_all, axis=1)\n",
    "accuracy_adv = np.mean(pred_labels_adv == true_labels)\n",
    "\n",
    "print(f\"Adversarial Accuracy of target model on x_all: {accuracy_adv * 100:.2f}%\")"
   ]
  },
  {
   "cell_type": "code",
   "execution_count": null,
   "metadata": {},
   "outputs": [
    {
     "name": "stdout",
     "output_type": "stream",
     "text": [
      "\u001b[1m1/1\u001b[0m \u001b[32m━━━━━━━━━━━━━━━━━━━━\u001b[0m\u001b[37m\u001b[0m \u001b[1m0s\u001b[0m 45ms/step\n",
      "\u001b[1m1/1\u001b[0m \u001b[32m━━━━━━━━━━━━━━━━━━━━\u001b[0m\u001b[37m\u001b[0m \u001b[1m0s\u001b[0m 44ms/step\n",
      "🎯 Target Model on Original Image:\n",
      "  Predicted class: 6\n",
      "  Probabilities: [1.2594966e-12 2.7487471e-13 1.5489166e-04 2.0000585e-10 2.3158791e-05\n",
      " 8.9190346e-16 9.9981076e-01 1.1066785e-05 6.3382863e-08 1.4131438e-12]\n",
      "\n",
      "🔥 Target Model on Adversarial Example:\n",
      "  Predicted class: 6\n",
      "  Probabilities: [3.1783828e-10 6.3547464e-13 1.4079745e-04 3.9868661e-10 6.5514288e-04\n",
      " 1.6441838e-14 9.9917799e-01 1.1024923e-05 1.5002376e-05 4.9639095e-15]\n"
     ]
    }
   ],
   "source": [
    "# Make sure we're not applying noise through tf.cond, just explicitly apply it once\n",
    "# and keep target_model unaware of any custom logic.\n",
    "\n",
    "# original image prediction\n",
    "preds_orig_target = target_model.predict(test_img)\n",
    "pred_orig_target = np.argmax(preds_orig_target)\n",
    "\n",
    "# adversarial example\n",
    "adv_input = test_img + adversarial_model.noise  # use noise from surrogate model\n",
    "\n",
    "preds_adv_target = target_model.predict(adv_input)\n",
    "pred_adv_target = np.argmax(preds_adv_target)\n",
    "\n",
    "# Display results\n",
    "print(\"🎯 Target Model on Original Image:\")\n",
    "print(f\"  Predicted class: {pred_orig_target}\")\n",
    "print(f\"  Probabilities: {preds_orig_target[0]}\")\n",
    "\n",
    "print(\"\\n🔥 Target Model on Adversarial Example:\")\n",
    "print(f\"  Predicted class: {pred_adv_target}\")\n",
    "print(f\"  Probabilities: {preds_adv_target[0]}\")\n"
   ]
  },
  {
   "cell_type": "markdown",
   "metadata": {},
   "source": [
    "# Congratulations, you've carried out a black-box adversarial attack!\n",
    "These kinds of adversarial attacks are a serious concern in the real world, since they can be [made to work when printed on paper](https://blog.openai.com/robust-adversarial-inputs/) and [we're still bad at defending against them](https://blog.openai.com/adversarial-example-research/).\n",
    "\n",
    "Some interesting things to try:\n",
    " - Did the surrogate model and the target model misclassify the adversarial example in the same way? (Mine did)\n",
    " - How subtle can you make the noise while still tricking the target network?\n",
    " - Look at how the adversarial example evolves through training in TensorBoard"
   ]
  }
 ],
 "metadata": {
  "kernelspec": {
   "display_name": ".venv",
   "language": "python",
   "name": "python3"
  },
  "language_info": {
   "codemirror_mode": {
    "name": "ipython",
    "version": 3
   },
   "file_extension": ".py",
   "mimetype": "text/x-python",
   "name": "python",
   "nbconvert_exporter": "python",
   "pygments_lexer": "ipython3",
   "version": "3.11.4"
  }
 },
 "nbformat": 4,
 "nbformat_minor": 2
}
